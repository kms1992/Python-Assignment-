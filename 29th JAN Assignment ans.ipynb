{
 "cells": [
  {
   "cell_type": "markdown",
   "id": "f989f214-7071-4168-b2a6-02e87b2936dc",
   "metadata": {},
   "source": [
    "## 29th JAN Assignment Answer "
   ]
  },
  {
   "cell_type": "markdown",
   "id": "a50b0dcc-2cc0-49fe-9a77-0ee8fe350ece",
   "metadata": {},
   "source": [
    "### 1:Guido van Rossum"
   ]
  },
  {
   "cell_type": "markdown",
   "id": "4c174d42-fa45-44fb-b0eb-27ce562c052a",
   "metadata": {},
   "source": [
    "### 2:Object-oriented programming and structured programming"
   ]
  },
  {
   "cell_type": "markdown",
   "id": "33277509-eec9-4ee2-89da-e4f2cec994c2",
   "metadata": {},
   "source": [
    "### 3:Yes, Python is a case-sensitive language"
   ]
  },
  {
   "cell_type": "markdown",
   "id": "54968868-55bf-4301-be7a-c5529a138bac",
   "metadata": {},
   "source": [
    "### 4:ans:Python gives you easy ways to manipulate these files"
   ]
  },
  {
   "cell_type": "markdown",
   "id": "36fa69b9-ee91-4f6c-a156-4a039ea5e10f",
   "metadata": {},
   "source": [
    "### 5:yes"
   ]
  },
  {
   "cell_type": "markdown",
   "id": "36747825-8349-4be1-9551-422e26a6f3b8",
   "metadata": {},
   "source": [
    "### 6:Indentation is used to define a block of code in python"
   ]
  },
  {
   "cell_type": "markdown",
   "id": "fe755aae-517b-4f9e-b9d7-823bad5f016f",
   "metadata": {},
   "source": [
    "### 7: print(\"Hello world\")"
   ]
  },
  {
   "cell_type": "markdown",
   "id": "466a8045-2ba3-4a76-958a-3e88d724ff3c",
   "metadata": {},
   "source": [
    "### 8:sys. version"
   ]
  },
  {
   "cell_type": "markdown",
   "id": "f9e32dc6-47fc-4304-a2bb-ef355b62e403",
   "metadata": {},
   "source": [
    "### 9:lambda"
   ]
  },
  {
   "cell_type": "markdown",
   "id": "78ea70d4-1517-4a41-a22a-3093f5ac35a8",
   "metadata": {},
   "source": [
    "10:preferred installer program"
   ]
  },
  {
   "cell_type": "markdown",
   "id": "9983f05e-dd7e-4c22-8e46-3715f15c155d",
   "metadata": {},
   "source": [
    "11:input(),int(),len(),list(),help()"
   ]
  },
  {
   "cell_type": "markdown",
   "id": "7e3c2a88-c9c0-4051-9d4a-611c7b48ec2c",
   "metadata": {},
   "source": [
    "12:79"
   ]
  },
  {
   "cell_type": "markdown",
   "id": "9c0e859a-11f7-44d0-9132-e81b84615694",
   "metadata": {},
   "source": [
    "13:Python programming language is a general-purpose, interpreted, and high-level language that mainly offers code readability. It is largely used by professional programmers and developers across a variety of fields, including Web Development and Machine Learning.\n"
   ]
  },
  {
   "cell_type": "markdown",
   "id": "33a864ba-e6e9-41c1-957b-da548a01b421",
   "metadata": {},
   "source": [
    "14:Python uses a portion of the memory for internal use and non-object memory. Another part of the memory is used for Python object such as int, dict, list, etc. CPython contains the object allocator that allocates memory within the object area. The object allocator gets a call every time the new object needs space"
   ]
  },
  {
   "cell_type": "markdown",
   "id": "0a4fc1d5-4186-4c5e-8e80-2c4f053d839c",
   "metadata": {},
   "source": [
    "15:Step 1: Select Version of Python to Install\n",
    "The installation procedure involves downloading the official Python .exe installer and running it on your system.\n",
    "\n",
    "The version you need depends on what you want to do in Python. For example, if you are working on a project coded in Python version 2.6, you probably need that version. If you are starting a project from scratch, you have the freedom to choose.\n",
    "\n",
    "If you are learning to code in Python, we recommend you download both the latest version of Python 2 and 3. Working with Python 2 enables you to work on older projects or test new projects for backward compatibility.\n",
    "\n",
    "2: Download Python Executable Installer\n",
    "Open your web browser and navigate to the Downloads for Windows section of the official Python website.\n",
    "Search for your desired version of Python. At the time of publishing this article, the latest Python 3 release is version 3.7.3, while the latest Python 2 release is version 2.7.16.\n",
    "Select a link to download either the Windows x86-64 executable installer or Windows x86 executable installer. The download is approximately 25MB.\n",
    "\n",
    "Step 3: Run Executable Installer\n",
    "1. Run the Python Installer once downloaded. (In this example, we have downloaded Python 3.7.3.)\n",
    "\n",
    "2. Make sure you select the Install launcher for all users and Add Python 3.7 to PATH checkboxes. The latter places the interpreter in the execution path. For older versions of Python that do not support the Add Python to Path checkbox, see Step 6.\n",
    "\n",
    "3. Select Install Now – the recommended installation options.\n",
    "For all recent versions of Python, the recommended installation options include Pip and IDLE. Older versions might not include such additional features.\n",
    "\n",
    "4. The next dialog will prompt you to select whether to Disable path length limit. Choosing this option will allow Python to bypass the 260-character MAX_PATH limit. Effectively, it will enable Python to use long path names.\n",
    "The Disable path length limit option will not affect any other system settings. Turning it on will resolve potential name length issues that may arise with Python projects developed in Linux.\n",
    "Step 4: Verify Python Was Installed On Windows  \n",
    "Navigate to the directory in which Python was installed on the system. In our case, it is C:\\Users\\Username\\AppData\\Local\\Programs\\Python\\Python37 since we have installed the latest version.\n",
    "Double-click python.exe.\n",
    "Step 5: Verify Pip Was Installed\n",
    "If you opted to install an older version of Python, it is possible that it did not come with Pip preinstalled. Pip is a powerful package management system for Python software packages. Thus, make sure that you have it installed.\n",
    "\n",
    "We recommend using Pip for most Python packages, especially when working in virtual environments.\n",
    "\n",
    "To verify whether Pip was installed:\n",
    "\n",
    "Open the Start menu and type \"cmd.\"\n",
    "Select the Command Prompt application.\n",
    "Enter pip -V in the console. If Pip was installed successfully, you should see the following output:\n",
    "The output should be similar to what you can see below:\n",
    "    Step 6: Add Python Path to Environment Variables (Optional)\n",
    "We recommend you go through this step if your version of the Python installer does not include the Add Python to PATH checkbox or if you have not selected that option.\n",
    "\n",
    "Setting up the Python path to system variables alleviates the need for using full paths. It instructs Windows to look through all the PATH folders for “python” and find the install folder that contains the python.exe file.\n",
    "\n",
    "1. Open the Start menu and start the Run app.\n",
    "Type sysdm.cpl and click OK. This opens the System Properties window.\n",
    "\n",
    "3. Navigate to the Advanced tab and select Environment Variables.\n",
    "\n",
    "4. Under System Variables, find and select the Path variable.\n",
    "\n",
    "5. Click Edit.\n",
    "\n",
    "6. Select the Variable value field. Add the path to the python.exe file preceded with a semicolon (;). For example, in the image below, we have added \";C:\\Python34.\"\n",
    " Click OK and close all windows.\n",
    "\n",
    "By setting this up, you can execute Python scripts like this: Python script.py\n",
    "\n",
    "Instead of this: C:/Python34/Python script.py\n",
    "\n"
   ]
  },
  {
   "cell_type": "markdown",
   "id": "d3451922-088c-46b5-957d-e653a7541ebc",
   "metadata": {},
   "source": [
    "16: YES"
   ]
  },
  {
   "cell_type": "code",
   "execution_count": null,
   "id": "17331cc8-932c-4092-a9b3-fbd74f812574",
   "metadata": {},
   "outputs": [],
   "source": []
  }
 ],
 "metadata": {
  "kernelspec": {
   "display_name": "Python 3 (ipykernel)",
   "language": "python",
   "name": "python3"
  },
  "language_info": {
   "codemirror_mode": {
    "name": "ipython",
    "version": 3
   },
   "file_extension": ".py",
   "mimetype": "text/x-python",
   "name": "python",
   "nbconvert_exporter": "python",
   "pygments_lexer": "ipython3",
   "version": "3.10.8"
  }
 },
 "nbformat": 4,
 "nbformat_minor": 5
}
